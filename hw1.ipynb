{
  "cells": [
    {
      "cell_type": "markdown",
      "metadata": {
        "id": "WZHb7Wwhp1VJ"
      },
      "source": [
        "# Домашнее задание №1. Numpy\n",
        "\n",
        "В данном домашнем задании требуется выполнить ряд упражнений по использованию библиотеки Numpy. Все задания должны быть выполнены исключительно с помощью данной библиотеки, в противном случае оно не будет защитано."
      ]
    },
    {
      "cell_type": "markdown",
      "metadata": {
        "id": "-aupBkz2p1VO"
      },
      "source": [
        "### Задание 1. Импортируйте Numpy и выведите его версию."
      ]
    },
    {
      "cell_type": "code",
      "execution_count": null,
      "metadata": {
        "id": "9DoOMOTap1VP",
        "colab": {
          "base_uri": "https://localhost:8080/"
        },
        "outputId": "bccf5af5-c884-4566-aa82-dffdce2cec11"
      },
      "outputs": [
        {
          "output_type": "stream",
          "name": "stdout",
          "text": [
            "1.23.5\n"
          ]
        }
      ],
      "source": [
        "import numpy as np\n",
        "print(np.__version__)"
      ]
    },
    {
      "cell_type": "markdown",
      "metadata": {
        "id": "k-okpCJcp1VQ"
      },
      "source": [
        "### Задание 2. Создайте 1D массив содержащий цифры от 0 до 20."
      ]
    },
    {
      "cell_type": "code",
      "execution_count": null,
      "metadata": {
        "id": "Ib1Qkl3Bp1VR",
        "colab": {
          "base_uri": "https://localhost:8080/"
        },
        "outputId": "bb78c5a6-ccea-4f83-afbf-9130f2709d7e"
      },
      "outputs": [
        {
          "output_type": "execute_result",
          "data": {
            "text/plain": [
              "array([ 0,  1,  2,  3,  4,  5,  6,  7,  8,  9, 10, 11, 12, 13, 14, 15, 16,\n",
              "       17, 18, 19])"
            ]
          },
          "metadata": {},
          "execution_count": 42
        }
      ],
      "source": [
        "a = np.arange(20)\n",
        "a"
      ]
    },
    {
      "cell_type": "markdown",
      "metadata": {
        "id": "0B2dgFYPp1VR"
      },
      "source": [
        "### Задание 3. Создайте думерный массив размером 3х3, содержащий элементы типа Bool."
      ]
    },
    {
      "cell_type": "code",
      "execution_count": null,
      "metadata": {
        "id": "yiUKSCA1p1VS",
        "colab": {
          "base_uri": "https://localhost:8080/"
        },
        "outputId": "3bd9e31f-ae03-414d-c6d1-85a36b09bbfc"
      },
      "outputs": [
        {
          "output_type": "execute_result",
          "data": {
            "text/plain": [
              "array([[[ True, False,  True],\n",
              "        [False,  True, False],\n",
              "        [ True, False,  True]]])"
            ]
          },
          "metadata": {},
          "execution_count": 43
        }
      ],
      "source": [
        "import numpy as np\n",
        "\n",
        "e = np.array([[[True, False, True], [False, True, False], [True, False, True]]])\n",
        "e"
      ]
    },
    {
      "cell_type": "markdown",
      "metadata": {
        "id": "RNF8YZ_Fp1VS"
      },
      "source": [
        "### Задание 4. Получите все нечетные элементы массива"
      ]
    },
    {
      "cell_type": "code",
      "execution_count": null,
      "metadata": {
        "id": "70jjQqYEp1VT",
        "colab": {
          "base_uri": "https://localhost:8080/"
        },
        "outputId": "6c9089d8-a494-4c56-f52c-b84bbda02cec"
      },
      "outputs": [
        {
          "output_type": "execute_result",
          "data": {
            "text/plain": [
              "array([1, 3, 5, 7, 9])"
            ]
          },
          "metadata": {},
          "execution_count": 5
        }
      ],
      "source": [
        "# input: arr = np.array([0, 1, 2, 3, 4, 5, 6, 7, 8, 9])\n",
        "# output: array([1, 3, 5, 7, 9])\n",
        "\n",
        "arr = np.array([0, 1, 2, 3, 4, 5, 6, 7, 8, 9])\n",
        "\n",
        "import numpy as np\n",
        "b = np.arange(1, len(arr), 2)\n",
        "arr[b]"
      ]
    },
    {
      "cell_type": "markdown",
      "metadata": {
        "id": "nxf1Ro6Yp1VT"
      },
      "source": [
        "### Задание 5. Замените все нечетные элементы массива на -1.\n"
      ]
    },
    {
      "cell_type": "code",
      "execution_count": null,
      "metadata": {
        "id": "ptMm-YW_p1VU",
        "colab": {
          "base_uri": "https://localhost:8080/"
        },
        "outputId": "76ae9708-c6d8-4104-9290-51a6befda15d"
      },
      "outputs": [
        {
          "output_type": "execute_result",
          "data": {
            "text/plain": [
              "array([ 0, -1,  2, -1,  4, -1,  6, -1,  8, -1])"
            ]
          },
          "metadata": {},
          "execution_count": 6
        }
      ],
      "source": [
        "# input: arr = np.array([0, 1, 2, 3, 4, 5, 6, 7, 8, 9])\n",
        "# output: array([ 0, -1,  2, -1,  4, -1,  6, -1,  8, -1])\n",
        "\n",
        "arr = np.array([0, 1, 2, 3, 4, 5, 6, 7, 8, 9])\n",
        "\n",
        "import numpy as np\n",
        "\n",
        "b = np.arange(1, len(arr), 2)\n",
        "arr[b] = -1\n",
        "\n",
        "a = np.arange(0, len(arr), 2)\n",
        "arr"
      ]
    },
    {
      "cell_type": "markdown",
      "metadata": {
        "id": "GLL2Eak8p1VU"
      },
      "source": [
        "### Задание 6. Из одномерного массива сделайте двумерный, содержащий 2 строки"
      ]
    },
    {
      "cell_type": "code",
      "execution_count": null,
      "metadata": {
        "id": "6Vurdk3kp1VU",
        "colab": {
          "base_uri": "https://localhost:8080/"
        },
        "outputId": "b3dc4a08-b41f-40a8-fc2a-d7af234d9585"
      },
      "outputs": [
        {
          "output_type": "execute_result",
          "data": {
            "text/plain": [
              "array([[0, 1, 2, 3, 4],\n",
              "       [5, 6, 7, 8, 9]])"
            ]
          },
          "metadata": {},
          "execution_count": 8
        }
      ],
      "source": [
        "# input: arr = np.arange(10)\n",
        "# output: array([[0, 1, 2, 3, 4],\n",
        "#               [5, 6, 7, 8, 9]])\n",
        "\n",
        "arr = np.arange(10)\n",
        "\n",
        "import numpy as np\n",
        "\n",
        "arr.reshape(2, -1)"
      ]
    },
    {
      "cell_type": "markdown",
      "metadata": {
        "id": "7ToL6FHLp1VU"
      },
      "source": [
        "### Задание 7. Дополните строки одного массива строками другого массива."
      ]
    },
    {
      "cell_type": "code",
      "execution_count": null,
      "metadata": {
        "id": "xf0Il-gOp1VV",
        "colab": {
          "base_uri": "https://localhost:8080/"
        },
        "outputId": "b7d27fa3-aca9-4622-ec40-4e49e797a778"
      },
      "outputs": [
        {
          "output_type": "execute_result",
          "data": {
            "text/plain": [
              "array([[0, 1, 2, 3, 4],\n",
              "       [5, 6, 7, 8, 9],\n",
              "       [1, 1, 1, 1, 1],\n",
              "       [1, 1, 1, 1, 1]])"
            ]
          },
          "metadata": {},
          "execution_count": 7
        }
      ],
      "source": [
        "# input: a = np.arange(10).reshape(2,-1)\n",
        "#        b = np.repeat(1, 10).reshape(2,-1)\n",
        "\n",
        "# output: array([[0, 1, 2, 3, 4],\n",
        "#                [5, 6, 7, 8, 9],\n",
        "#                [1, 1, 1, 1, 1],\n",
        "#                [1, 1, 1, 1, 1]])\n",
        "\n",
        "a = np.arange(10).reshape(2,-1)\n",
        "b = np.repeat(1, 10).reshape(2,-1)\n",
        "\n",
        "import numpy as np\n",
        "\n",
        "c = np.append(a, b).reshape(4,-1)\n",
        "c\n"
      ]
    },
    {
      "cell_type": "markdown",
      "metadata": {
        "id": "K3DmelZXp1VV"
      },
      "source": [
        "### Задание 8. Получите индексы, на которых в обоих массивах стоят одинаковые элементы."
      ]
    },
    {
      "cell_type": "code",
      "execution_count": null,
      "metadata": {
        "id": "ZtKziwM-p1VV",
        "colab": {
          "base_uri": "https://localhost:8080/"
        },
        "outputId": "f0c75642-f0fb-4253-e581-a22a98845417"
      },
      "outputs": [
        {
          "output_type": "execute_result",
          "data": {
            "text/plain": [
              "array([1, 3, 5, 7])"
            ]
          },
          "metadata": {},
          "execution_count": 11
        }
      ],
      "source": [
        "# Input: a = np.array([1,2,3,2,3,4,3,4,5,6])\n",
        "#        b = np.array([7,2,10,2,7,4,9,4,9,8])\n",
        "\n",
        "# Output: (array([1, 3, 5, 7]),)\n",
        "\n",
        "a = np.array([1,2,3,2,3,4,3,4,5,6])\n",
        "b = np.array([7,2,10,2,7,4,9,4,9,8])\n",
        "\n",
        "import numpy as np\n",
        "\n",
        "l = []\n",
        "for i in range(len(a)):\n",
        "  if a[i] == b[i]:\n",
        "    l.append(i)\n",
        "c = np.array([], dtype=int)\n",
        "np.append(c, l)"
      ]
    },
    {
      "cell_type": "markdown",
      "metadata": {
        "id": "hBKQIx2cp1VW"
      },
      "source": [
        "### Задание 9. Получите все элементы массива которые не меньше 5 и не больше 10"
      ]
    },
    {
      "cell_type": "code",
      "execution_count": null,
      "metadata": {
        "id": "e6Ed9aiLp1VW",
        "colab": {
          "base_uri": "https://localhost:8080/"
        },
        "outputId": "1093617c-4287-47de-b559-3b7010fdc6f0"
      },
      "outputs": [
        {
          "output_type": "execute_result",
          "data": {
            "text/plain": [
              "array([ 6,  9, 10])"
            ]
          },
          "metadata": {},
          "execution_count": 14
        }
      ],
      "source": [
        "# Input: a = np.array([2, 6, 1, 9, 10, 3, 27])\n",
        "# Output: (array([6, 9, 10]),)\n",
        "\n",
        "a = np.array([2, 6, 1, 9, 10, 3, 27])\n",
        "\n",
        "import numpy as np\n",
        "\n",
        "l = []\n",
        "for i in range(len(a)):\n",
        "  if a[i] >= 5 and a[i] <= 10:\n",
        "    l.append(a[i])\n",
        "c = np.array([], dtype=int)\n",
        "np.append(c, l)"
      ]
    },
    {
      "cell_type": "markdown",
      "metadata": {
        "id": "yAI7IHwFp1VW"
      },
      "source": [
        "### Задание 10. Поменяйте местами первый и последний столбец матрицы."
      ]
    },
    {
      "cell_type": "code",
      "execution_count": null,
      "metadata": {
        "id": "KIggmQj9p1VX",
        "colab": {
          "base_uri": "https://localhost:8080/"
        },
        "outputId": "9c438b2d-8af6-4628-c52e-91cf17fec476"
      },
      "outputs": [
        {
          "output_type": "execute_result",
          "data": {
            "text/plain": [
              "array([[2, 1, 0],\n",
              "       [5, 4, 3],\n",
              "       [8, 7, 6]])"
            ]
          },
          "metadata": {},
          "execution_count": 13
        }
      ],
      "source": [
        "arr = np.arange(9).reshape(3,3)\n",
        "\n",
        "import numpy as np\n",
        "\n",
        "np.flip(arr, 1)"
      ]
    },
    {
      "cell_type": "markdown",
      "metadata": {
        "id": "0qeIhe1Wp1VX"
      },
      "source": [
        "### Задание 11. Сложите поэлементно два двумерных массива одинакового размера"
      ]
    },
    {
      "cell_type": "code",
      "execution_count": null,
      "metadata": {
        "id": "vApvH2Lop1VX",
        "colab": {
          "base_uri": "https://localhost:8080/"
        },
        "outputId": "eb94db1e-e6e1-4d48-af6b-f884883fc990"
      },
      "outputs": [
        {
          "output_type": "execute_result",
          "data": {
            "text/plain": [
              "array([[11, 13, 15],\n",
              "       [17, 19, 21]])"
            ]
          },
          "metadata": {},
          "execution_count": 15
        }
      ],
      "source": [
        "a = np.array([[1,2,3],\n",
        "              [4,5,6]])\n",
        "\n",
        "b = np.array([[10,11,12],\n",
        "              [13,14,15]])\n",
        "\n",
        "import numpy as np\n",
        "\n",
        "a + b"
      ]
    },
    {
      "cell_type": "markdown",
      "metadata": {
        "id": "0XGSeaoLp1VX"
      },
      "source": [
        "### Задание 12. Измените тип всех элементов масссива с float на int."
      ]
    },
    {
      "cell_type": "code",
      "execution_count": null,
      "metadata": {
        "id": "udLlJGLDp1VX",
        "colab": {
          "base_uri": "https://localhost:8080/"
        },
        "outputId": "c5391e8a-bbbc-4701-d15e-cf6168bdc663"
      },
      "outputs": [
        {
          "output_type": "execute_result",
          "data": {
            "text/plain": [
              "array([[2, 3, 1],\n",
              "       [4, 2, 1]])"
            ]
          },
          "metadata": {},
          "execution_count": 17
        }
      ],
      "source": [
        "a = np.array([[2.5, 3.8, 1.5],\n",
        "              [4.7, 2.9, 1.56]])\n",
        "\n",
        "import numpy as np\n",
        "\n",
        "a = np.array([[2.5, 3.8, 1.5],\n",
        "              [4.7, 2.9, 1.56]], dtype=int)\n",
        "a"
      ]
    },
    {
      "cell_type": "markdown",
      "metadata": {
        "id": "_UIiJcsXp1VY"
      },
      "source": [
        "### Задание 13*. Нарисуйте график функции $(x^2 + y^2 - 1)^3 -x^2y^3 = 0$"
      ]
    },
    {
      "cell_type": "code",
      "execution_count": null,
      "metadata": {
        "id": "sRE8UBWFp1VY",
        "colab": {
          "base_uri": "https://localhost:8080/",
          "height": 1000
        },
        "outputId": "1231125d-12f2-4d49-9831-aaef5bbc6c27"
      },
      "outputs": [
        {
          "output_type": "execute_result",
          "data": {
            "text/plain": [
              "<function matplotlib.pyplot.show(close=None, block=None)>"
            ]
          },
          "metadata": {},
          "execution_count": 134
        },
        {
          "output_type": "display_data",
          "data": {
            "text/plain": [
              "<Figure size 2200x2200 with 1 Axes>"
            ],
            "image/png": "[encoded data removed]"
          },
          "metadata": {}
        }
      ],
      "source": [
        "import numpy as np\n",
        "import matplotlib.pyplot as plt\n",
        "\n",
        "x = np.linspace(-2, 2, 500)\n",
        "y = np.linspace(-2, 2, 500)\n",
        "X, Y = np.meshgrid(x, y)\n",
        "\n",
        "def implicit_function(x, y):\n",
        "    return (x**2 + y**2 - 1)**3 - x**2 * y**3\n",
        "\n",
        "Z = implicit_function(X, Y)\n",
        "\n",
        "plt.figure(figsize=(22, 22))\n",
        "plt.contour(X, Y, Z, levels=[0])\n",
        "\n",
        "plt.show"
      ]
    },
    {
      "cell_type": "markdown",
      "metadata": {
        "id": "2Pwp94Rtp1VY"
      },
      "source": [
        "### Задание 14. Нарисуйте на одном графике две параболы."
      ]
    },
    {
      "cell_type": "code",
      "execution_count": null,
      "metadata": {
        "id": "ZOuPUfvHp1VY",
        "colab": {
          "base_uri": "https://localhost:8080/",
          "height": 430
        },
        "outputId": "47603c24-82c2-42af-c0b4-57ae806de38c"
      },
      "outputs": [
        {
          "output_type": "display_data",
          "data": {
            "text/plain": [
              "<Figure size 640x480 with 1 Axes>"
            ],
            "image/png": "[encoded data removed]"
          },
          "metadata": {}
        }
      ],
      "source": [
        "import numpy as np\n",
        "import matplotlib.pyplot as plt\n",
        "\n",
        "x = np.linspace(-5, 5, 50)\n",
        "plt.plot(10*x**2 + x + 2)\n",
        "plt.plot(-20*x**2 + x)\n",
        "plt.show()"
      ]
    },
    {
      "cell_type": "markdown",
      "metadata": {
        "id": "rbU3hQ0ep1VY"
      },
      "source": [
        "### Задание 15. Выведите массив, среднее значение элементов массива, минимальный элемент, его индекс, максимальный элемент, его индекс"
      ]
    },
    {
      "cell_type": "code",
      "execution_count": null,
      "metadata": {
        "id": "nO13dF-_p1VY",
        "colab": {
          "base_uri": "https://localhost:8080/"
        },
        "outputId": "0911913d-35a2-47a3-ab3a-914d1044a5f6"
      },
      "outputs": [
        {
          "output_type": "stream",
          "name": "stdout",
          "text": [
            "Массив:\n",
            "[13, 22, -21, -28, 34, 47, 3, -35, 13, 26, -47, 42, -26, -32, -25]\n",
            "Среднее значение элементов массива:\n",
            "-1.6666666666666667\n",
            "Минимальный элемент и его индекс:\n",
            "-47 10\n",
            "Максимальный элемент и его индекс:\n",
            "47 5\n"
          ]
        }
      ],
      "source": [
        "from re import I\n",
        "arr = np.random.randint(-50, 50, 15)\n",
        "\n",
        "import numpy as np\n",
        "\n",
        "l = []\n",
        "sr = 0\n",
        "for i in range(len(arr)):\n",
        "  sum = 0\n",
        "  sum += arr[i]\n",
        "  l.append(arr[i])   # техническая часть и вывод массива\n",
        "sr = sum / len(l)\n",
        "print(\"Массив:\")\n",
        "print(l)\n",
        "\n",
        "print(\"Среднее значение элементов массива:\")   # вывод среднего значения\n",
        "print(sr)\n",
        "\n",
        "min = 51\n",
        "minI = 0\n",
        "for i in range(len(l)):\n",
        "  if l[i] < min:\n",
        "    min = l[i]\n",
        "    minI = i\n",
        "print(\"Минимальный элемент и его индекс:\")   # вывод минимума и его индекса\n",
        "print(min, minI)\n",
        "\n",
        "max = -51\n",
        "maxI = 0\n",
        "for i in range(len(l)):\n",
        "  if l[i] > max:\n",
        "    max = l[i]\n",
        "    maxI = i\n",
        "print(\"Максимальный элемент и его индекс:\") # вывод максимума и его индекса\n",
        "print(max, maxI)\n",
        "\n",
        "# спасибо за интересное дз!)"
      ]
    },
    {
      "cell_type": "code",
      "source": [],
      "metadata": {
        "id": "Un0sHi3_cnjA"
      },
      "execution_count": null,
      "outputs": []
    }
  ],
  "metadata": {
    "kernelspec": {
      "display_name": "Python 3",
      "language": "python",
      "name": "python3"
    },
    "language_info": {
      "codemirror_mode": {
        "name": "ipython",
        "version": 3
      },
      "file_extension": ".py",
      "mimetype": "text/x-python",
      "name": "python",
      "nbconvert_exporter": "python",
      "pygments_lexer": "ipython3",
      "version": "3.8.0"
    },
    "colab": {
      "provenance": []
    }
  },
  "nbformat": 4,
  "nbformat_minor": 0
}